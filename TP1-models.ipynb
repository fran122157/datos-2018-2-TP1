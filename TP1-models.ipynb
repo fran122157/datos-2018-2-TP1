{
 "cells": [
  {
   "cell_type": "code",
   "execution_count": 15,
   "metadata": {},
   "outputs": [],
   "source": [
    "import string\n",
    "import re\n",
    "from wordcloud import WordCloud, STOPWORDS, ImageColorGenerator, get_single_color_func\n",
    "import pandas as pd\n",
    "import numpy as np\n",
    "import unidecode\n",
    "import matplotlib.pyplot as plt\n",
    "from PIL import Image\n",
    "\n",
    "import os\n",
    "from os import path\n",
    "\n",
    "data = pd.read_csv('./data/events.csv.gz',compression='gzip',low_memory=False)"
   ]
  },
  {
   "cell_type": "code",
   "execution_count": 5,
   "metadata": {},
   "outputs": [],
   "source": [
    "stopw = ''\n",
    "stopw = stopw.split(',')"
   ]
  },
  {
   "cell_type": "code",
   "execution_count": 6,
   "metadata": {},
   "outputs": [
    {
     "data": {
      "text/plain": [
       "Index(['timestamp', 'event', 'person', 'url', 'sku', 'model', 'condition',\n",
       "       'storage', 'color', 'skus', 'search_term', 'staticpage',\n",
       "       'campaign_source', 'search_engine', 'channel', 'new_vs_returning',\n",
       "       'city', 'region', 'country', 'device_type', 'screen_resolution',\n",
       "       'operating_system_version', 'browser_version'],\n",
       "      dtype='object')"
      ]
     },
     "execution_count": 6,
     "metadata": {},
     "output_type": "execute_result"
    }
   ],
   "source": [
    "data.columns"
   ]
  },
  {
   "cell_type": "code",
   "execution_count": 7,
   "metadata": {},
   "outputs": [
    {
     "data": {
      "text/plain": [
       "iPhone 6                  50916\n",
       "iPhone 5s                 44878\n",
       "iPhone 6S                 39296\n",
       "iPhone 7                  27556\n",
       "Samsung Galaxy S7 Edge    23926\n",
       "Samsung Galaxy S7         19337\n",
       "iPhone 7 Plus             18792\n",
       "Samsung Galaxy S8         16959\n",
       "iPhone SE                 16531\n",
       "Samsung Galaxy J5         13044\n",
       "Name: model, dtype: int64"
      ]
     },
     "execution_count": 7,
     "metadata": {},
     "output_type": "execute_result"
    }
   ],
   "source": [
    "data['model'].value_counts()[0:10]\n",
    "### Se puede ver que hay modelos repetidos dependiendo\n",
    "### de la forma en que se ingrasaron"
   ]
  },
  {
   "cell_type": "code",
   "execution_count": 8,
   "metadata": {},
   "outputs": [],
   "source": [
    "model = data['model']"
   ]
  },
  {
   "cell_type": "code",
   "execution_count": 9,
   "metadata": {},
   "outputs": [],
   "source": [
    "model.dropna(inplace=True)"
   ]
  },
  {
   "cell_type": "code",
   "execution_count": 10,
   "metadata": {},
   "outputs": [],
   "source": [
    "model = model.apply(lambda s: re.sub(' ','',s)) ###### remuevo los espacios en blanco de mas\n",
    "model = model.apply(lambda s: s.upper()) ###### lo paso a mayuscula\n",
    "####### se retiran los nombres para que los modelos queden mas cortos\n",
    "model = model.apply(lambda s: re.sub('MOTOROLA','',s)) \n",
    "model = model.apply(lambda s: re.sub('GALAXY','',s)) "
   ]
  },
  {
   "cell_type": "code",
   "execution_count": 11,
   "metadata": {},
   "outputs": [],
   "source": [
    "model = model.value_counts()[0:100]"
   ]
  },
  {
   "cell_type": "code",
   "execution_count": 12,
   "metadata": {},
   "outputs": [],
   "source": [
    "iphone = model[model.index.str.contains('IPHONE')].index.values\n",
    "samsung = model[model.index.str.contains('SAMSUNG')].index.values\n",
    "motorola = model[model.index.str.contains('MOTO')].index.values\n",
    "lg = model[model.index.str.contains('LG')].index.values\n",
    "sony = model[model.index.str.contains('SONY')].index.values"
   ]
  },
  {
   "cell_type": "code",
   "execution_count": 16,
   "metadata": {},
   "outputs": [
    {
     "ename": "FileNotFoundError",
     "evalue": "[Errno 2] No such file or directory: '/home/marianogimenez/Documents/facu/orgadedatos/datos-2018-2-TP1/trocafone.png'",
     "output_type": "error",
     "traceback": [
      "\u001b[0;31m---------------------------------------------------------------------------\u001b[0m",
      "\u001b[0;31mFileNotFoundError\u001b[0m                         Traceback (most recent call last)",
      "\u001b[0;32m<ipython-input-16-30fe931520de>\u001b[0m in \u001b[0;36m<module>\u001b[0;34m()\u001b[0m\n\u001b[1;32m     11\u001b[0m         \u001b[0;32mreturn\u001b[0m \u001b[0mself\u001b[0m\u001b[0;34m.\u001b[0m\u001b[0mword_to_color\u001b[0m\u001b[0;34m.\u001b[0m\u001b[0mget\u001b[0m\u001b[0;34m(\u001b[0m\u001b[0mword\u001b[0m\u001b[0;34m,\u001b[0m \u001b[0mself\u001b[0m\u001b[0;34m.\u001b[0m\u001b[0mdefault_color\u001b[0m\u001b[0;34m)\u001b[0m\u001b[0;34m\u001b[0m\u001b[0m\n\u001b[1;32m     12\u001b[0m \u001b[0;34m\u001b[0m\u001b[0m\n\u001b[0;32m---> 13\u001b[0;31m \u001b[0mmascara\u001b[0m \u001b[0;34m=\u001b[0m \u001b[0mnp\u001b[0m\u001b[0;34m.\u001b[0m\u001b[0marray\u001b[0m\u001b[0;34m(\u001b[0m\u001b[0mImage\u001b[0m\u001b[0;34m.\u001b[0m\u001b[0mopen\u001b[0m\u001b[0;34m(\u001b[0m\u001b[0md\u001b[0m \u001b[0;34m+\u001b[0m \u001b[0;34m'/trocafone.png'\u001b[0m\u001b[0;34m)\u001b[0m\u001b[0;34m)\u001b[0m\u001b[0;34m\u001b[0m\u001b[0m\n\u001b[0m\u001b[1;32m     14\u001b[0m wordcloud = WordCloud(\n\u001b[1;32m     15\u001b[0m     \u001b[0mbackground_color\u001b[0m\u001b[0;34m=\u001b[0m\u001b[0;34m'white'\u001b[0m\u001b[0;34m,\u001b[0m\u001b[0;34m\u001b[0m\u001b[0m\n",
      "\u001b[0;32m~/.local/lib/python3.6/site-packages/PIL/Image.py\u001b[0m in \u001b[0;36mopen\u001b[0;34m(fp, mode)\u001b[0m\n\u001b[1;32m   2578\u001b[0m \u001b[0;34m\u001b[0m\u001b[0m\n\u001b[1;32m   2579\u001b[0m     \u001b[0;32mif\u001b[0m \u001b[0mfilename\u001b[0m\u001b[0;34m:\u001b[0m\u001b[0;34m\u001b[0m\u001b[0m\n\u001b[0;32m-> 2580\u001b[0;31m         \u001b[0mfp\u001b[0m \u001b[0;34m=\u001b[0m \u001b[0mbuiltins\u001b[0m\u001b[0;34m.\u001b[0m\u001b[0mopen\u001b[0m\u001b[0;34m(\u001b[0m\u001b[0mfilename\u001b[0m\u001b[0;34m,\u001b[0m \u001b[0;34m\"rb\"\u001b[0m\u001b[0;34m)\u001b[0m\u001b[0;34m\u001b[0m\u001b[0m\n\u001b[0m\u001b[1;32m   2581\u001b[0m         \u001b[0mexclusive_fp\u001b[0m \u001b[0;34m=\u001b[0m \u001b[0;32mTrue\u001b[0m\u001b[0;34m\u001b[0m\u001b[0m\n\u001b[1;32m   2582\u001b[0m \u001b[0;34m\u001b[0m\u001b[0m\n",
      "\u001b[0;31mFileNotFoundError\u001b[0m: [Errno 2] No such file or directory: '/home/marianogimenez/Documents/facu/orgadedatos/datos-2018-2-TP1/trocafone.png'"
     ]
    }
   ],
   "source": [
    "class SimpleGroupedColorFunc(object):\n",
    "\n",
    "    def __init__(self, color_to_words, default_color):\n",
    "        self.word_to_color = {word: color\n",
    "                              for (color, words) in color_to_words.items()\n",
    "                              for word in words}\n",
    "\n",
    "        self.default_color = default_color\n",
    "\n",
    "    def __call__(self, word, **kwargs):\n",
    "        return self.word_to_color.get(word, self.default_color)\n",
    "\n",
    "mascara = np.array(Image.open(d + '/trocafone.png'))\n",
    "wordcloud = WordCloud(\n",
    "    background_color='white',\n",
    "    font_path =  '/usr/share/fonts/truetype/BloggerSans/BloggerSans-Bold.ttf',\n",
    "#    mask=mascara,\n",
    "    stopwords=stopw,\n",
    "    contour_width=10,\n",
    "    contour_color='orange',\n",
    "#    min_font_size=1,\n",
    "    max_font_size=135, \n",
    "    random_state=267,\n",
    "    width=1024, \n",
    "    height=768,\n",
    "    prefer_horizontal=1\n",
    ").generate_from_frequencies(model)\n",
    "\n",
    "image_colors = ImageColorGenerator(mascara)\n",
    "color_to_words = {\n",
    "    '#444F57': iphone,\n",
    "    '#CC6D6C': samsung,\n",
    "    '#7B99B2': motorola,\n",
    "    '#69996B': lg,\n",
    "    '#7875C0': sony,\n",
    "}\n",
    "\n",
    "default_color = 'grey'\n",
    "\n",
    "grouped_color_func = SimpleGroupedColorFunc(color_to_words, default_color)\n",
    "\n",
    "fig = plt.figure(1)\n",
    "plt.title('Modelos mas populares.')\n",
    "plt.imshow(wordcloud.recolor(color_func=grouped_color_func),interpolation=\"bilinear\",cmap=plt.cm.gray)\n",
    "fig.set_size_inches(10,15)\n",
    "plt.axis('off')\n",
    "plt.savefig(\"modelosMasRelevantes.png\", dpi=600)\n",
    "plt.show()"
   ]
  }
 ],
 "metadata": {
  "kernelspec": {
   "display_name": "Python 3",
   "language": "python",
   "name": "python3"
  },
  "language_info": {
   "codemirror_mode": {
    "name": "ipython",
    "version": 3
   },
   "file_extension": ".py",
   "mimetype": "text/x-python",
   "name": "python",
   "nbconvert_exporter": "python",
   "pygments_lexer": "ipython3",
   "version": "3.6.5"
  }
 },
 "nbformat": 4,
 "nbformat_minor": 2
}
